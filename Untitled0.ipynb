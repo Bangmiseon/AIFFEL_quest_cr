{
  "nbformat": 4,
  "nbformat_minor": 0,
  "metadata": {
    "colab": {
      "provenance": [],
      "include_colab_link": true
    },
    "kernelspec": {
      "name": "python3",
      "display_name": "Python 3"
    },
    "language_info": {
      "name": "python"
    }
  },
  "cells": [
    {
      "cell_type": "markdown",
      "metadata": {
        "id": "view-in-github",
        "colab_type": "text"
      },
      "source": [
        "<a href=\"https://colab.research.google.com/github/Bangmiseon/AIFFEL_quest_cr/blob/main/Untitled0.ipynb\" target=\"_parent\"><img src=\"https://colab.research.google.com/assets/colab-badge.svg\" alt=\"Open In Colab\"/></a>"
      ]
    },
    {
      "cell_type": "code",
      "execution_count": null,
      "metadata": {
        "id": "ZaXm9OyFpeX4"
      },
      "outputs": [],
      "source": [
        "def reverse_string(s):\n",
        "    \"\"\"문자열을 뒤집는 함수\"\"\"\n",
        "    return s[::-1]\n",
        "    # 슬라이스 구문으로 문자열을 처음부터 끝까지 역순으로 가져옵니다.\n",
        "\n",
        "def is_palindrome(s):\n",
        "    \"\"\"문자열이 회문인지 확인하는 함수\"\"\"\n",
        "    return s == reverse_string(s)\n",
        "\n",
        "\n",
        "# 사용자로부터 단어 입력받기\n",
        "input_word = input(\"입력값: \")\n",
        "\n",
        "# 단어를 뒤집어서 출력\n",
        "reversed_word = reverse_string(input_word)\n",
        "print(f\"뒤집힌 단어는: {reversed_word}\")\n",
        "\n",
        "# 회문 여부 확인\n",
        "if is_palindrome(input_word):\n",
        "    print(\"입력된 단어는 회문입니다.\")\n",
        "else:\n",
        "    print(\"입력된 단어는 회문이 아닙니다.\")\n",
        "\n",
        "#회고: 슬라이싱으로 뒤집는 [::-1]을 기억해둬야겠다. gpt의 도움을 받았는데 gpt의 도움을 최대한 덜 받도록 노력해야겠다."
      ]
    }
  ]
}